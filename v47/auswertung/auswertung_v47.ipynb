{
 "cells": [
  {
   "cell_type": "code",
   "execution_count": 58,
   "metadata": {},
   "outputs": [],
   "source": [
    "import numpy as np\n",
    "import matplotlib.pyplot as plt\n",
    "import pandas as pd"
   ]
  },
  {
   "cell_type": "code",
   "execution_count": 50,
   "metadata": {},
   "outputs": [],
   "source": [
    "data = np.loadtxt('../data/data.txt')\n",
    "\n",
    "R = data[:, 0]  # Widerstand in Ohm\n",
    "delta_t = data[:, 1]  # zeitlicher Abstand in S\n",
    "U = data[:, 2]  # Spannung in V\n",
    "I = data[:, 3] / 1000  # Stromstärke in A\n",
    "M = 63.546  # molare Masse von Kupfer in g/mol\n",
    "m = 342  # Masse der Probe in g\n",
    "\n",
    "\n",
    "# Step 3: Perform a linear fit using np.polyfit (degree 1 for linear)\n",
    "# coefficients = np.polyfit(x, y, 1)  # Returns [slope, intercept]\n",
    "\n",
    "# # Step 4: Create a linear model with the fitted coefficients\n",
    "# linear_fit = np.poly1d(coefficients)\n",
    "\n",
    "# # Step 5: Plot the data and the linear fit\n",
    "# plt.scatter(x, y, label='Data', color='blue')  # Original data points\n",
    "# plt.plot(x, linear_fit(x), label='Linear Fit', color='red')  # Fitted line\n",
    "# plt.xlabel('X')\n",
    "# plt.ylabel('Y')\n",
    "# plt.legend()\n",
    "# plt.show()"
   ]
  },
  {
   "cell_type": "code",
   "execution_count": 95,
   "metadata": {},
   "outputs": [
    {
     "name": "stdout",
     "output_type": "stream",
     "text": [
      "[0.08258682 0.108981   0.13623439 0.16360578 0.19217633 0.22238309\n",
      " 0.25245522 0.28165911 0.31273417 0.34243837 0.37261925 0.40364097\n",
      " 0.43657097 0.46911176 0.50161368 0.53388645 0.56715813 0.60368291\n",
      " 0.63675221]\n",
      "[[-180.    830.96   15.44   15.36]\n",
      " [-170.    927.58   17.24   17.13]\n",
      " [-160.    917.38   17.05   16.91]\n",
      " [-150.    940.83   17.48   17.32]\n",
      " [-140.    959.08   17.82   17.63]\n",
      " [-130.   1026.15   19.07   18.84]\n",
      " [-120.   1062.44   19.74   19.49]\n",
      " [-110.   1141.43   21.21   20.93]\n",
      " [-100.   1152.03   21.41   21.09]\n",
      " [ -90.   1113.17   20.68   20.34]\n",
      " [ -80.   1110.73   20.64   20.27]\n",
      " [ -70.   1084.14   20.14   19.74]\n",
      " [ -60.   1301.73   24.19   23.75]\n",
      " [ -50.   1711.84   31.81   31.34]\n",
      " [ -40.   1309.45   24.33   23.83]\n",
      " [ -30.   1331.94   24.75   24.21]\n",
      " [ -20.   1241.91   23.08   22.51]\n",
      " [ -10.   1186.71   22.05   21.45]\n",
      " [  -0.   1084.19   20.15   19.51]]\n"
     ]
    }
   ],
   "source": [
    "T = np.round(0.00134 * R**2 + 2.296 * R - 243.02)[1:]\n",
    "E = (U * I * delta_t)[1:]\n",
    "C_p = M/m * E/10\n",
    "\n",
    "B = 137.8e9\n",
    "V_0 = 7.092e-6\n",
    "alpha = np.array([10.04,10.96,11.70,12.29,12.81,13.29,13.69,14.01,14.33,14.58,14.81,15.03,15.26,15.46,15.64,15.80,15.96,16.15,16.28])*10e-7\n",
    "\n",
    "C_V = C_p - 9 * (T + 273.15) * V_0 * alpha**2 * B\n",
    "\n",
    "print(9 * (T + 273.15) * V_0 * alpha**2 * B)\n",
    "new_data = np.column_stack((T,E,C_p,C_V))\n",
    "print(np.round(new_data,2))\n",
    "# np.savetxt(\"../results/new_data.txt\", new_data)\n",
    "\n",
    "# # Convert to a DataFrame for better formatting\n",
    "# df = pd.DataFrame(new_data, columns=[\"Temperature (K)\", \"Energy (J)\", \"$C_p$ (J/(mol*K))\"])\n",
    "\n",
    "# # Generate LaTeX table\n",
    "# latex_table = df.to_latex(index=False, \n",
    "#                           float_format=\"%.2f\", \n",
    "#                           header=[\"Temperature (K)\", \"Energy (J)\", \"$C_p$ (J/(mol*K))\"])\n",
    "\n",
    "# # Save the LaTeX table to a file\n",
    "# with open(\"../results/table_new_data.tex\", \"w\") as file:\n",
    "#     file.write(latex_table)\n",
    "\n",
    "# print(\"LaTeX table has been saved to 'table.tex'\")\n",
    "\n",
    "\n"
   ]
  },
  {
   "cell_type": "code",
   "execution_count": null,
   "metadata": {},
   "outputs": [],
   "source": []
  }
 ],
 "metadata": {
  "kernelspec": {
   "display_name": "base",
   "language": "python",
   "name": "python3"
  },
  "language_info": {
   "codemirror_mode": {
    "name": "ipython",
    "version": 3
   },
   "file_extension": ".py",
   "mimetype": "text/x-python",
   "name": "python",
   "nbconvert_exporter": "python",
   "pygments_lexer": "ipython3",
   "version": "3.12.7"
  }
 },
 "nbformat": 4,
 "nbformat_minor": 2
}
