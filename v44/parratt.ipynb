{
 "cells": [
  {
   "cell_type": "code",
   "execution_count": 1,
   "metadata": {},
   "outputs": [
    {
     "data": {
      "application/vnd.jupyter.widget-view+json": {
       "model_id": "d67a2664d4244764881d668ff96cfe4d",
       "version_major": 2,
       "version_minor": 0
      },
      "text/plain": [
       "interactive(children=(FloatSlider(value=1.0, description='a', max=10.0), FloatSlider(value=1.0, description='l…"
      ]
     },
     "metadata": {},
     "output_type": "display_data"
    },
    {
     "data": {
      "text/plain": [
       "<function __main__.sine(a, linewidth, color)>"
      ]
     },
     "execution_count": 1,
     "metadata": {},
     "output_type": "execute_result"
    }
   ],
   "source": [
    "%matplotlib widget\n",
    "import numpy as np\n",
    "import matplotlib.pyplot as plt\n",
    "from ipywidgets import interact, widgets\n",
    "\n",
    "def circle(radius, linewidth, color):\n",
    "    angles = np.linspace(0,2*np.pi,100)\n",
    "    fig, ax = plt.subplots()\n",
    "    ax.set_aspect(1)\n",
    "    ax.set_xlim(-10,10)\n",
    "    ax.set_ylim(-10,10)\n",
    "    ax.plot(radius*np.cos(angles), radius*np.sin(angles), linewidth = linewidth, c = color)\n",
    "    plt.title('Circle of radius {} units'.format(radius))\n",
    "    plt.show()\n",
    "\n",
    "def sine(a, linewidth, color):\n",
    "    x = np.linspace(0, 2*np.pi, 100)\n",
    "    fig, ax = plt.subplots()\n",
    "    ax.plot(x, np.sin(a*x), linewidth = linewidth, c = color)\n",
    "    plt.title('Sine wave with amplitude {} units'.format(a))\n",
    "    plt.show()\n",
    "\n",
    "interact(sine, a=widgets.FloatSlider(min=0, max=10, step=0.1, value=1), linewidth=widgets.FloatSlider(min=0, max=10, step=0.1, value=1), color=widgets.ColorPicker(value='blue'))"
   ]
  },
  {
   "cell_type": "code",
   "execution_count": 2,
   "metadata": {
    "scrolled": true
   },
   "outputs": [
    {
     "data": {
      "application/vnd.jupyter.widget-view+json": {
       "model_id": "cebc7b47d0e645d69e0b42bc45928a54",
       "version_major": 2,
       "version_minor": 0
      },
      "text/plain": [
       "interactive(children=(FloatSlider(value=1.7e-06, description='d_poly', max=1e-05, min=1e-06, readout_format='.…"
      ]
     },
     "metadata": {},
     "output_type": "display_data"
    },
    {
     "data": {
      "text/plain": [
       "<function __main__.plot_reflectivity(d_poly, d_Sili, b_poly, b_sili, d, sigma_poly, sigma_sili, damp)>"
      ]
     },
     "execution_count": 2,
     "metadata": {},
     "output_type": "execute_result"
    }
   ],
   "source": [
    "thetaReflect, reflectivity_corrected = np.genfromtxt(\"data.txt\", unpack=True)\n",
    "LAMBDA = 1.54e-10  # m\n",
    "\n",
    "def fresnel_ideal(a_i):\n",
    "    \"\"\"Calculates the reflectivity of an ideal, smooth surface of Si.\"\"\"\n",
    "    k = 2 * np.pi / LAMBDA\n",
    "    n_1 = 1\n",
    "    delta_2 = 7.6e-6\n",
    "    beta_2 = LAMBDA / (4 * np.pi) * 141 / 100\n",
    "    n_2 = 1 - delta_2 - 1j * beta_2\n",
    "\n",
    "    # Berechnung von k_z1 und k_z2\n",
    "    k_z1 = k * np.sqrt(n_1**2 - np.square(np.cos(np.deg2rad(a_i))))\n",
    "    k_z2 = k * np.sqrt(n_2**2 - np.square(np.cos(np.deg2rad(a_i))))\n",
    "\n",
    "    # Reflexionskoeffizient\n",
    "    r = (k_z1 - k_z2) / (k_z1 + k_z2)\n",
    "\n",
    "    # Rückgabe der Reflexivität (Betrag von r zum Quadrat)\n",
    "    return abs(r)**2\n",
    "\n",
    "\n",
    "lambda_ka = 1.54e-10 # Angström -> Wellenlaenge der Roentgenstrahlung bei der Kalpha Linie\n",
    "k = 2*np.pi/lambda_ka   # Wellenvektor\n",
    "n1 = 1\n",
    "d1 = 0\n",
    "\n",
    "##### Startparameter für den Fit #####\n",
    "d_poly = 1.7e-6 # 1. Schicht Polysterol\n",
    "d_Sili = 8.2e-6 # 2. Schicht Silizium\n",
    "b_poly = 1.8e-10\n",
    "b_sili = .25e-5\n",
    "d = 8.8e-8\n",
    "sigma_poly = 5.2e-10\n",
    "sigma_sili = 7.8e-10\n",
    "######################################\n",
    "\n",
    "\n",
    "theta_min = 0.2     #Startwert Fit\n",
    "theta_max = 0.8     #Endwert Fit\n",
    "\n",
    "x = np.linspace(0, 1.5, 10000)\n",
    "start_params = [d_poly, d_Sili, b_poly, b_sili, d, sigma_poly, sigma_sili]  # Hier die Startparameter eintragen, die später mit *start_params übergeben werden\n",
    "\n",
    "\n",
    "\n",
    "\n",
    "def parratt(alpha, delta2, delta3, b2, b3, d2, sigma1, sigma2):\n",
    "    # alpha is the angle of incidence in degrees\n",
    "    # delta2, delta3 are the real parts of the refractive indices of the two materials\n",
    "    # b2, b3 are the imaginary parts of the refractive indices of the two materials\n",
    "    # d2 is the thickness of the second layer\n",
    "    # sigma1, sigma2 are the roughnesses of the interfaces    \n",
    "    \n",
    "    # Convert angle to radians\n",
    "    alpha_rad = np.deg2rad(alpha)\n",
    "    \n",
    "    # Calculate refractive indices\n",
    "    n2, n3 = 1.0 - delta2 - 1j * b2, 1.0 - delta3 - 1j * b3\n",
    "    \n",
    "    # Calculate wave vectors\n",
    "    kz1 = k * np.sqrt(n1**2 - np.cos(alpha_rad)**2)\n",
    "    kz2 = k * np.sqrt(n2**2 - np.cos(alpha_rad)**2)\n",
    "    kz3 = k * np.sqrt(n3**2 - np.cos(alpha_rad)**2)\n",
    "    \n",
    "    # Calculate exponential factors for roughness\n",
    "    exp_factor1 = np.exp(-2 * kz1 * kz2 * sigma1**2)\n",
    "    exp_factor2 = np.exp(-2 * kz2 * kz3 * sigma2**2)\n",
    "    \n",
    "    # Calculate reflectivities\n",
    "    r12 = ((kz1 - kz2) / (kz1 + kz2)) * exp_factor1\n",
    "    r23 = ((kz2 - kz3) / (kz2 + kz3)) * exp_factor2\n",
    "    \n",
    "    # Calculate exponential factor for layer thickness\n",
    "    exp_factor3 = np.exp(-2j * kz2 * d2)\n",
    "    \n",
    "    # Calculate total reflectivity\n",
    "    return np.abs((r12 + exp_factor3 * r23) / (1 + r12 * exp_factor3 * r23))**2\n",
    "\n",
    "\n",
    "def plot_reflectivity(d_poly, d_Sili, b_poly, b_sili, d, sigma_poly, sigma_sili, damp):\n",
    "    reflectivity = parratt(thetaReflect, d_poly, d_Sili, b_poly, b_sili, d, sigma_poly, sigma_sili)\n",
    "    plt.figure()\n",
    "    plt.plot(thetaReflect, reflectivity_corrected/damp, label='Corrected Reflectivity')\n",
    "    plt.plot(thetaReflect, reflectivity, label='Parratt Reflectivity')\n",
    "    plt.xlabel('Theta (degrees)')\n",
    "    plt.ylabel('Reflectivity')\n",
    "    plt.legend()\n",
    "    plt.yscale('log')\n",
    "    plt.xlim(0,1.5)\n",
    "    plt.show()\n",
    "\n",
    "interact(plot_reflectivity, \n",
    "         d_poly=widgets.FloatSlider(min=1e-6, max=1e-5, step=1e-7, value=d_poly, readout_format='.1e'),\n",
    "         d_Sili=widgets.FloatSlider(min=1e-6, max=1e-4, step=1e-7, value=d_Sili, readout_format='.1e'),\n",
    "         b_poly=widgets.FloatSlider(min=1e-10, max=1e-9, step=1e-11, value=b_poly, readout_format='.1e'),\n",
    "         b_sili=widgets.FloatSlider(min=1e-6, max=1e-4, step=1e-7, value=b_sili, readout_format='.1e'),\n",
    "         d=widgets.FloatSlider(min=1e-8, max=1e-7, step=1e-9, value=d, readout_format='.1e'),\n",
    "         sigma_poly=widgets.FloatSlider(min=1e-10, max=1e-9, step=1e-11, value=sigma_poly, readout_format='.1e'),\n",
    "         sigma_sili=widgets.FloatSlider(min=1e-10, max=1e-9, step=1e-11, value=sigma_sili, readout_format='.1e'),\n",
    "         damp=widgets.FloatSlider(min=1, max=10, step=0.01, value=1))"
   ]
  },
  {
   "cell_type": "code",
   "execution_count": 5,
   "metadata": {},
   "outputs": [
    {
     "data": {
      "application/vnd.jupyter.widget-view+json": {
       "model_id": "fdaf891a402c4c11a37d4013a4f032a4",
       "version_major": 2,
       "version_minor": 0
      },
      "text/plain": [
       "interactive(children=(FloatSlider(value=1.7e-06, description='d_poly', max=1e-05, min=1e-06, readout_format='.…"
      ]
     },
     "metadata": {},
     "output_type": "display_data"
    },
    {
     "data": {
      "text/plain": [
       "<function __main__.plot_reflectivity(d_poly, d_Sili, b_poly, b_sili, d, sigma_poly, sigma_sili, damp)>"
      ]
     },
     "execution_count": 5,
     "metadata": {},
     "output_type": "execute_result"
    }
   ],
   "source": [
    "interact(plot_reflectivity, \n",
    "         d_poly=widgets.FloatSlider(min=1e-6, max=1e-5, step=1e-7, value=d_poly, readout_format='.1e'),\n",
    "         d_Sili=widgets.FloatSlider(min=1e-6, max=1e-4, step=1e-7, value=d_Sili, readout_format='.1e'),\n",
    "         b_poly = d_poly / 200,\n",
    "         b_sili = d_Sili / 400,\n",
    "         d=widgets.FloatSlider(min=1e-8, max=1e-7, step=1e-9, value=d, readout_format='.1e'),\n",
    "         sigma_poly=widgets.FloatSlider(min=1e-10, max=1e-9, step=1e-11, value=sigma_poly, readout_format='.1e'),\n",
    "         sigma_sili=widgets.FloatSlider(min=1e-10, max=1e-9, step=1e-11, value=sigma_sili, readout_format='.1e'),\n",
    "         damp=widgets.FloatSlider(min=1, max=10, step=0.01, value=1))"
   ]
  },
  {
   "cell_type": "code",
   "execution_count": 8,
   "metadata": {},
   "outputs": [
    {
     "data": {
      "application/vnd.jupyter.widget-view+json": {
       "model_id": "158fbb4b7d614020b63c0f4ad72c7344",
       "version_major": 2,
       "version_minor": 0
      },
      "text/plain": [
       "interactive(children=(FloatSlider(value=1.7e-06, description='d_poly', max=1.87e-06, min=1.53e-06, readout_for…"
      ]
     },
     "metadata": {},
     "output_type": "display_data"
    },
    {
     "data": {
      "text/plain": [
       "<function __main__.plot_reflectivity(d_poly, d_Sili, b_poly, b_sili, d, sigma_poly, sigma_sili, damp)>"
      ]
     },
     "execution_count": 8,
     "metadata": {},
     "output_type": "execute_result"
    }
   ],
   "source": [
    "values_before = [1.7e-6, 8.2e-6, 8.8e-8, 5.2e-10, 7.8e-10, 10]\n",
    "\n",
    "interact(plot_reflectivity,\n",
    "         d_poly=widgets.FloatSlider(min=values_before[0]-values_before[0]*.1, max=values_before[0]+values_before[0]*.1, step=1e-7, value=values_before[0], readout_format='.1e'),\n",
    "         d_Sili=widgets.FloatSlider(min=values_before[1]-values_before[1]*.1, max=values_before[1]+values_before[1]*.1, step=1e-7, value=values_before[1], readout_format='.1e'),\n",
    "         b_poly = d_poly / 200,\n",
    "         b_sili = d_Sili / 400,\n",
    "         d=widgets.FloatSlider(min=values_before[2]-values_before[2]*.1, max=values_before[2]+values_before[2]*.1, step=1e-10, value=values_before[2], readout_format='.2e'),\n",
    "         sigma_poly=widgets.FloatSlider(min=values_before[3]-values_before[3]*.1, max=values_before[3]+values_before[3]*.1, step=1e-11, value=values_before[3], readout_format='.1e'),\n",
    "         sigma_sili=widgets.FloatSlider(min=values_before[4]-values_before[4]*.1, max=values_before[4]+values_before[4]*.1, step=1e-11, value=values_before[4], readout_format='.1e'),\n",
    "         damp=widgets.FloatSlider(min=values_before[5]-values_before[5]*.1, max=values_before[5]+values_before[5]*.1, step=0.01, value=values_before[5]))"
   ]
  },
  {
   "cell_type": "code",
   "execution_count": null,
   "metadata": {},
   "outputs": [],
   "source": []
  },
  {
   "cell_type": "code",
   "execution_count": null,
   "metadata": {},
   "outputs": [],
   "source": []
  }
 ],
 "metadata": {
  "kernelspec": {
   "display_name": "smd",
   "language": "python",
   "name": "python3"
  },
  "language_info": {
   "codemirror_mode": {
    "name": "ipython",
    "version": 3
   },
   "file_extension": ".py",
   "mimetype": "text/x-python",
   "name": "python",
   "nbconvert_exporter": "python",
   "pygments_lexer": "ipython3",
   "version": "3.12.7"
  }
 },
 "nbformat": 4,
 "nbformat_minor": 4
}
