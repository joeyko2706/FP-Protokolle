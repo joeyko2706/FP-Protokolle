{
 "cells": [
  {
   "cell_type": "code",
   "execution_count": 11,
   "metadata": {},
   "outputs": [
    {
     "name": "stdout",
     "output_type": "stream",
     "text": [
      "10.00\n",
      "15.44\n",
      "23.85\n",
      "36.84\n",
      "56.90\n",
      "87.88\n",
      "135.72\n",
      "209.61\n",
      "323.74\n",
      "500.00\n"
     ]
    }
   ],
   "source": [
    "import numpy as np\n",
    "\n",
    "# Logarithmic range\n",
    "start, end = 10, 500\n",
    "num_points = 10\n",
    "\n",
    "# Generate logarithmically spaced points\n",
    "log_points = np.logspace(np.log10(start), np.log10(end), num_points)\n",
    "\n",
    "for i in range(len(log_points)):\n",
    "    print(f\"{log_points[i]:.2f}\")"
   ]
  },
  {
   "cell_type": "code",
   "execution_count": 16,
   "metadata": {},
   "outputs": [
    {
     "name": "stdout",
     "output_type": "stream",
     "text": [
      "3.00\n",
      "3.08\n",
      "3.17\n",
      "3.25\n",
      "3.34\n",
      "3.43\n",
      "3.53\n",
      "3.62\n",
      "3.72\n",
      "3.82\n",
      "3.93\n",
      "4.03\n",
      "4.14\n",
      "4.26\n",
      "4.37\n",
      "4.49\n",
      "4.61\n",
      "4.74\n",
      "4.87\n",
      "5.00\n"
     ]
    }
   ],
   "source": [
    "log_points = np.logspace(np.log10(3), np.log10(5), 20)\n",
    "\n",
    "for i in range(len(log_points)):\n",
    "    print(f\"{log_points[i]:.2f}\")"
   ]
  },
  {
   "cell_type": "code",
   "execution_count": null,
   "metadata": {},
   "outputs": [],
   "source": []
  }
 ],
 "metadata": {
  "kernelspec": {
   "display_name": "smd",
   "language": "python",
   "name": "python3"
  },
  "language_info": {
   "codemirror_mode": {
    "name": "ipython",
    "version": 3
   },
   "file_extension": ".py",
   "mimetype": "text/x-python",
   "name": "python",
   "nbconvert_exporter": "python",
   "pygments_lexer": "ipython3",
   "version": "3.12.7"
  }
 },
 "nbformat": 4,
 "nbformat_minor": 2
}
