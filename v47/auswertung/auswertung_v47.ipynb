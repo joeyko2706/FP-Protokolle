{
 "cells": [
  {
   "cell_type": "code",
   "execution_count": 50,
   "metadata": {},
   "outputs": [],
   "source": [
    "import numpy as np\n",
    "import matplotlib.pyplot as plt\n",
    "import pandas as pd\n",
    "import scipy as sc"
   ]
  },
  {
   "cell_type": "code",
   "execution_count": 6,
   "metadata": {},
   "outputs": [],
   "source": [
    "data = np.loadtxt('../data/data.txt')\n",
    "\n",
    "R = data[:, 0]  # Widerstand in Ohm\n",
    "delta_t = data[:, 1]  # zeitlicher Abstand in S\n",
    "U = data[:, 2]  # Spannung in V\n",
    "I = data[:, 3] / 1000  # Stromstärke in A\n",
    "M = 63.546  # molare Masse von Kupfer in g/mol\n",
    "m = 342  # Masse der Probe in g\n",
    "\n",
    "\n",
    "# Step 3: Perform a linear fit using np.polyfit (degree 1 for linear)\n",
    "# coefficients = np.polyfit(x, y, 1)  # Returns [slope, intercept]\n",
    "\n",
    "# # Step 4: Create a linear model with the fitted coefficients\n",
    "# linear_fit = np.poly1d(coefficients)\n",
    "\n",
    "# # Step 5: Plot the data and the linear fit\n",
    "# plt.scatter(x, y, label='Data', color='blue')  # Original data points\n",
    "# plt.plot(x, linear_fit(x), label='Linear Fit', color='red')  # Fitted line\n",
    "# plt.xlabel('X')\n",
    "# plt.ylabel('Y')\n",
    "# plt.legend()\n",
    "# plt.show()"
   ]
  },
  {
   "cell_type": "code",
   "execution_count": null,
   "metadata": {},
   "outputs": [
    {
     "name": "stdout",
     "output_type": "stream",
     "text": [
      "LaTeX table has been saved to 'TplusAlpha.tex'\n",
      "-180.0\n",
      "[15.35731189 17.12613903 16.90933629 17.31761454 17.6282124  18.84424504\n",
      " 19.48834714 20.92682229 21.09269965 20.34108228 20.26547404 19.74051349\n",
      " 23.75048481 31.33808267 23.82889341 24.21457917 22.5083343  21.44620974\n",
      " 19.50830678]\n"
     ]
    }
   ],
   "source": [
    "T = np.round(0.00134 * R**2 + 2.296 * R - 243.02)[1:]\n",
    "E = (U * I * delta_t)[1:]\n",
    "C_p = M/m * E/10\n",
    "\n",
    "B = 137.8e9\n",
    "V_0 = 7.092e-6 # m^3/mol\n",
    "alpha = np.array([10.04,10.96,11.70,12.29,12.81,13.29,13.69,14.01,14.33,14.58,14.81,15.03,15.26,15.46,15.64,15.80,15.96,16.15,16.28])*10e-7\n",
    "\n",
    "C_V = C_p - 9 * (T + 273.15) * V_0 * alpha**2 * B\n",
    "\n",
    "new_data = np.column_stack((T,E,C_p,C_V))\n",
    "np.savetxt(\"../results/new_data.txt\", new_data)\n",
    "\n",
    "TplusAlpha = np.column_stack((T,alpha*10e5))\n",
    "np.savetxt(\"../results/TplusAlpha.txt\", TplusAlpha)\n",
    "\n",
    "# # Convert to a DataFrame for better formatting\n",
    "# df = pd.DataFrame(new_data, columns=[\"$T$ / °C\", \"$E$ / J\", \"$C_p$ / (J/(mol*K))\", \"$C_p$ / (J/(mol*K))\"])\n",
    "\n",
    "# # Generate LaTeX table\n",
    "# latex_table = df.to_latex(index=False, \n",
    "#                           float_format=\"%.2f\", \n",
    "#                           header=[\"$T$ / °C\", \"$E$ / J\", \"$C_p$ / (J/(mol*K))\", \"$C_p$ / (J/(mol*K))\"])\n",
    "\n",
    "# # Save the LaTeX table to a file\n",
    "# with open(\"../results/new_data_table.tex\", \"w\") as file:\n",
    "#     file.write(latex_table)\n",
    "\n",
    "# print(\"LaTeX table has been saved to 'new_data.tex'\")\n",
    "\n",
    "# # Convert to a DataFrame for better formatting\n",
    "# df = pd.DataFrame(TplusAlpha, columns=[\"$T$ / °C\", \"$\\\\alpha$ / 10e-6 (1/K)\"])\n",
    "\n",
    "# # Generate LaTeX table\n",
    "# latex_table = df.to_latex(index=False, \n",
    "#                           float_format=\"%.2f\", \n",
    "#                           header=[\"$T$ / °C\", \"$\\\\alpha$ / 10e-6 (1/K)\"])\n",
    "\n",
    "# # Save the LaTeX table to a file\n",
    "# with open(\"../results/TplusAlpha_table.tex\", \"w\") as file:\n",
    "#     file.write(latex_table)\n",
    "\n",
    "# print(\"LaTeX table has been saved to 'TplusAlpha.tex'\")\n",
    "\n",
    "print(T[0])\n",
    "print(C_V)"
   ]
  },
  {
   "cell_type": "code",
   "execution_count": null,
   "metadata": {},
   "outputs": [
    {
     "name": "stdout",
     "output_type": "stream",
     "text": [
      "LaTeX table has been saved to 'T_Debye.tex'\n"
     ]
    }
   ],
   "source": [
    "# Debye-Temperature\n",
    "thetaDurchT = np.array([3.3,2.9,2.9,2.8,2.7,2.4,2.3,1.9,1.9]) # starting at -180 grad, finishing at 100 grad\n",
    "T_low = T[:9]\n",
    "theta = thetaDurchT * (T_low + 273.15)\n",
    "\n",
    "\n",
    "T_Debye = np.column_stack((T_low,thetaDurchT,theta))\n",
    "np.savetxt(\"../results/T_Debye.txt\", T_Debye)\n",
    "\n",
    "# # Convert to a DataFrame for better formatting\n",
    "# df = pd.DataFrame(T_Debye, columns=[\"$T$ / °C\", \"$\\\\theta_D/T$\", \"$\\\\theta_D$ / °C\"])\n",
    "\n",
    "# # Generate LaTeX table\n",
    "# latex_table = df.to_latex(index=False, \n",
    "#                           float_format=\"%.2f\", \n",
    "#                           header=[\"$T$ / °C\", \"$\\\\theta_D/T$\", \"$\\\\theta_D$ / °C\"])\n",
    "\n",
    "# # Save the LaTeX table to a file\n",
    "# with open(\"../results/T_Debye_table.tex\", \"w\") as file:\n",
    "#     file.write(latex_table)\n",
    "\n",
    "# print(\"LaTeX table has been saved to 'T_Debye.tex'\")\n"
   ]
  },
  {
   "cell_type": "code",
   "execution_count": 49,
   "metadata": {},
   "outputs": [
    {
     "name": "stdout",
     "output_type": "stream",
     "text": [
      "Standard Mean minus Error of the Mean: 330.4183333333333 - 7.106392808591431\n"
     ]
    }
   ],
   "source": [
    "# mean and error of the Debye Temperature\n",
    "mean = np.mean(theta)\n",
    "error = np.std(theta, ddof=1)  # ddof=1 for sample standard deviation\n",
    "sem = error / np.sqrt(len(theta))\n",
    "print(f\"Standard Mean minus Error of the Mean: {mean} - {sem}\")"
   ]
  },
  {
   "cell_type": "code",
   "execution_count": 58,
   "metadata": {},
   "outputs": [
    {
     "name": "stdout",
     "output_type": "stream",
     "text": [
      "433906882082146.1\n"
     ]
    }
   ],
   "source": [
    "# Theoretische debye frequenz\n",
    "N_A = 6.022e23  # mol^-1\n",
    "v_l = 4.7/3.6  # m/s\n",
    "v_t = 2.26/3.6  # m/s\n",
    "\n",
    "k_D = (6 * np.pi**2 * N_A / V_0 )**1/3\n",
    "v_m = (1 / 3 * ( 1 / v_l**3 + 2 / v_t**3))**(-1/3)\n",
    "\n",
    "womega = v_m * k_D / (2 * np.pi)\n",
    "print(womega**0.5)"
   ]
  },
  {
   "cell_type": "code",
   "execution_count": null,
   "metadata": {},
   "outputs": [],
   "source": []
  }
 ],
 "metadata": {
  "kernelspec": {
   "display_name": "base",
   "language": "python",
   "name": "python3"
  },
  "language_info": {
   "codemirror_mode": {
    "name": "ipython",
    "version": 3
   },
   "file_extension": ".py",
   "mimetype": "text/x-python",
   "name": "python",
   "nbconvert_exporter": "python",
   "pygments_lexer": "ipython3",
   "version": "3.12.7"
  }
 },
 "nbformat": 4,
 "nbformat_minor": 2
}
